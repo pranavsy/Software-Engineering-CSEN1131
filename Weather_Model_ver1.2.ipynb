{
  "nbformat": 4,
  "nbformat_minor": 0,
  "metadata": {
    "colab": {
      "provenance": [],
      "authorship_tag": "ABX9TyPKqoNvgkkvc5MjinmJhoCs",
      "include_colab_link": true
    },
    "kernelspec": {
      "name": "python3",
      "display_name": "Python 3"
    },
    "language_info": {
      "name": "python"
    }
  },
  "cells": [
    {
      "cell_type": "markdown",
      "metadata": {
        "id": "view-in-github",
        "colab_type": "text"
      },
      "source": [
        "<a href=\"https://colab.research.google.com/github/pranavsy/Software-Engineering-CSEN1131/blob/Weathermodel/Weather_Model_ver1.2.ipynb\" target=\"_parent\"><img src=\"https://colab.research.google.com/assets/colab-badge.svg\" alt=\"Open In Colab\"/></a>"
      ]
    },
    {
      "cell_type": "code",
      "execution_count": 4,
      "metadata": {
        "colab": {
          "base_uri": "https://localhost:8080/"
        },
        "id": "2Tv42LKqVOcq",
        "outputId": "4abf4d0a-ab95-403f-c4ff-a5c38ad49893"
      },
      "outputs": [
        {
          "output_type": "stream",
          "name": "stdout",
          "text": [
            "Sunny\n"
          ]
        }
      ],
      "source": [
        "with open('weather_input_multiple.txt', 'r') as file:\n",
        "    lines = file.readlines()\n",
        "for line in lines:\n",
        "    data = line.split()\n",
        "    t = int(data[0])\n",
        "    h = int(data[1])\n",
        "    wind = int(data[2])\n",
        "    w = 0.5 * (t ** 2) - (0.2 * h) + (0.1 * wind) - 15\n",
        "    if w > 10:\n",
        "        print(\"Sunny\")\n",
        "    elif 0 <= w <= 10:\n",
        "        print(\"Windy\")\n",
        "    elif -10 <= w < 0:\n",
        "        print(\"Cloud\")\n",
        "    elif w < -10:\n",
        "        print(\"Rainy\")"
      ]
    }
  ]
}